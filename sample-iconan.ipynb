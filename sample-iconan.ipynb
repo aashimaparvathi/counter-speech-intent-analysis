{
 "cells": [
  {
   "cell_type": "markdown",
   "metadata": {},
   "source": [
    "# Sampling iconan"
   ]
  },
  {
   "cell_type": "markdown",
   "metadata": {},
   "source": [
    "#### Group by Target and cnType, then filter groups with at least 2 samples"
   ]
  },
  {
   "cell_type": "code",
   "execution_count": 3,
   "metadata": {},
   "outputs": [
    {
     "name": "stdout",
     "output_type": "stream",
     "text": [
      "Sample meets the required conditions.\n",
      "Sample saved to 'sample_iconan.csv'\n"
     ]
    },
    {
     "name": "stderr",
     "output_type": "stream",
     "text": [
      "/var/folders/04/nywyc1v95c71p0m8dy47hj4c0000gn/T/ipykernel_19083/2851573314.py:24: DeprecationWarning: DataFrameGroupBy.apply operated on the grouping columns. This behavior is deprecated, and in a future version of pandas the grouping columns will be excluded from the operation. Either pass `include_groups=False` to exclude the groupings or explicitly select the grouping columns after groupby to silence this warning.\n",
      "  sample_df = filtered_groups.groupby(['Target', 'cnType']).apply(lambda x: x.sample(2, replace=False)).reset_index(drop=True)\n"
     ]
    }
   ],
   "source": [
    "import pandas as pd\n",
    "\n",
    "# Load datasets\n",
    "train_df = pd.read_csv('data/iconan/iconan_train.csv')\n",
    "test_df = pd.read_csv('data/iconan/iconan_test.csv')\n",
    "val_df = pd.read_csv('data/iconan/iconan_dev.csv')\n",
    "\n",
    "# Combine datasets\n",
    "df = pd.concat([train_df, test_df, val_df])\n",
    "\n",
    "# Drop duplicates to ensure distinct hateSpeech\n",
    "#df = df.drop_duplicates(subset=['hateSpeech'])   // Commenting this out since this is resulting in 100-102 rows only in sample, i.e., unable to produce 2 rows per Target-cnType pair\n",
    "\n",
    "# Filter by counterSpeech length > 105\n",
    "df = df[df['counterSpeech'].apply(len) > 105]\n",
    "\n",
    "# Group by Target and cnType, then filter groups with at least 2 samples\n",
    "filtered_groups = df.groupby(['Target', 'cnType']).filter(lambda x: len(x) >= 2)\n",
    "\n",
    "# Sample 2 rows from each group\n",
    "sample_df = filtered_groups.groupby(['Target', 'cnType']).apply(lambda x: x.sample(2, replace=False)).reset_index(drop=True)\n",
    "\n",
    "# Verify the condition for each Target and cnType pair\n",
    "sample_counts = sample_df.groupby(['Target', 'cnType']).size().reset_index(name='count')\n",
    "if all(sample_counts['count'] == 2):\n",
    "    print(\"Sample meets the required conditions.\")\n",
    "else:\n",
    "    print(\"Sample does not meet the required conditions.\")\n",
    "\n",
    "# Save the sample to a new CSV file\n",
    "sample_df.to_csv('data/iconan/sample_iconan.csv', index=False)\n",
    "\n",
    "print(\"Sample saved to 'sample_iconan.csv'\")\n"
   ]
  },
  {
   "cell_type": "markdown",
   "metadata": {},
   "source": [
    "#### Non-uniform sample of longer counterSpeech instances"
   ]
  },
  {
   "cell_type": "code",
   "execution_count": 4,
   "metadata": {},
   "outputs": [
    {
     "name": "stdout",
     "output_type": "stream",
     "text": [
      "Sample meets the required conditions.\n",
      "Sample saved to 'sample_iconan_longCS.csv'\n"
     ]
    },
    {
     "name": "stderr",
     "output_type": "stream",
     "text": [
      "/var/folders/04/nywyc1v95c71p0m8dy47hj4c0000gn/T/ipykernel_19083/2712961664.py:14: DeprecationWarning: DataFrameGroupBy.apply operated on the grouping columns. This behavior is deprecated, and in a future version of pandas the grouping columns will be excluded from the operation. Either pass `include_groups=False` to exclude the groupings or explicitly select the grouping columns after groupby to silence this warning.\n",
      "  sample_df = filtered_groups.groupby(['Target', 'cnType']).apply(lambda x: x.sample(1, replace=False)).reset_index(drop=True)\n"
     ]
    }
   ],
   "source": [
    "# Combine datasets\n",
    "df = pd.concat([train_df, test_df, val_df])\n",
    "\n",
    "# Drop duplicates to ensure distinct hateSpeech\n",
    "#df = df.drop_duplicates(subset=['hateSpeech'])   // Commenting this out since this is resulting in 100-102 rows only in sample, i.e., unable to produce 2 rows per Target-cnType pair\n",
    "\n",
    "# Filter by counterSpeech length > 200\n",
    "df = df[df['counterSpeech'].apply(len) > 200]\n",
    "\n",
    "# Group by Target and cnType, then filter groups with at least 2 samples\n",
    "filtered_groups = df.groupby(['Target', 'cnType']).filter(lambda x: len(x) >= 1)\n",
    "\n",
    "# Sample 2 rows from each group\n",
    "sample_df = filtered_groups.groupby(['Target', 'cnType']).apply(lambda x: x.sample(1, replace=False)).reset_index(drop=True)\n",
    "\n",
    "# Verify the condition for each Target and cnType pair\n",
    "sample_counts = sample_df.groupby(['Target', 'cnType']).size().reset_index(name='count')\n",
    "if all(sample_counts['count'] == 1):\n",
    "    print(\"Sample meets the required conditions.\")\n",
    "else:\n",
    "    print(\"Sample does not meet the required conditions.\")\n",
    "\n",
    "# Save the sample to a new CSV file\n",
    "sample_df.to_csv('data/iconan/sample_iconan_longCS.csv', index=False)\n",
    "\n",
    "print(\"Sample saved to 'sample_iconan_longCS.csv'\")\n"
   ]
  },
  {
   "cell_type": "markdown",
   "metadata": {},
   "source": [
    "# Sample: Targets Equally Represented"
   ]
  },
  {
   "cell_type": "code",
   "execution_count": 6,
   "metadata": {},
   "outputs": [
    {
     "name": "stdout",
     "output_type": "stream",
     "text": [
      "Combined Target Distribution:\n",
      "Target\n",
      "MUSLIMS     5087\n",
      "MIGRANTS     946\n",
      "WOMEN        662\n",
      "LGBT+        617\n",
      "JEWS         594\n",
      "POC          352\n",
      "other        268\n",
      "DISABLED     220\n",
      "Name: count, dtype: int64\n"
     ]
    },
    {
     "name": "stderr",
     "output_type": "stream",
     "text": [
      "/var/folders/04/nywyc1v95c71p0m8dy47hj4c0000gn/T/ipykernel_19083/3928314147.py:24: DeprecationWarning: DataFrameGroupBy.apply operated on the grouping columns. This behavior is deprecated, and in a future version of pandas the grouping columns will be excluded from the operation. Either pass `include_groups=False` to exclude the groupings or explicitly select the grouping columns after groupby to silence this warning.\n",
      "  equal_sample_df = df.groupby('Target').apply(lambda x: x.sample(min_count)).reset_index(drop=True)\n"
     ]
    }
   ],
   "source": [
    "import pandas as pd\n",
    "\n",
    "# Load the datasets\n",
    "train_df = pd.read_csv('data/iconan/iconan_train.csv')\n",
    "test_df = pd.read_csv('data/iconan/iconan_test.csv')\n",
    "val_df = pd.read_csv('data/iconan/iconan_dev.csv')\n",
    "\n",
    "# Combine datasets\n",
    "df = pd.concat([train_df, test_df, val_df])\n",
    "\n",
    "# Remove HS-CS pairwise duplicates\n",
    "df = df.drop_duplicates(subset=['hateSpeech', 'counterSpeech'])\n",
    "\n",
    "# Save the combined dataset\n",
    "df.to_csv('data/iconan/combined.csv', index=False)\n",
    "\n",
    "# Print the combined target distribution\n",
    "target_distribution = df['Target'].value_counts()\n",
    "print(\"Combined Target Distribution:\")\n",
    "print(target_distribution)\n",
    "\n",
    "# Generate a random sample with equal target representation\n",
    "min_count = target_distribution.min()  # Get the minimum count for equal sampling\n",
    "equal_sample_df = df.groupby('Target').apply(lambda x: x.sample(min_count)).reset_index(drop=True)\n",
    "\n",
    "# Randomize the DataFrame\n",
    "equal_sample_df = equal_sample_df.sample(frac=1).reset_index(drop=True)\n",
    "\n",
    "# Save the equal target sample\n",
    "equal_sample_df.to_csv('data/iconan/equal-target-sample.csv', index=False)"
   ]
  },
  {
   "cell_type": "markdown",
   "metadata": {},
   "source": [
    "# 40-per-Target Sample"
   ]
  },
  {
   "cell_type": "code",
   "execution_count": 9,
   "metadata": {},
   "outputs": [
    {
     "name": "stdout",
     "output_type": "stream",
     "text": [
      "Combined Target Distribution:\n",
      "Target\n",
      "MUSLIMS     1591\n",
      "MIGRANTS     343\n",
      "JEWS         251\n",
      "LGBT+        248\n",
      "WOMEN        234\n",
      "POC          155\n",
      "DISABLED     101\n",
      "other         91\n",
      "Name: count, dtype: int64\n"
     ]
    },
    {
     "name": "stderr",
     "output_type": "stream",
     "text": [
      "/var/folders/04/nywyc1v95c71p0m8dy47hj4c0000gn/T/ipykernel_19083/303245910.py:14: DeprecationWarning: DataFrameGroupBy.apply operated on the grouping columns. This behavior is deprecated, and in a future version of pandas the grouping columns will be excluded from the operation. Either pass `include_groups=False` to exclude the groupings or explicitly select the grouping columns after groupby to silence this warning.\n",
      "  equal_sample_df = df.groupby('Target').apply(lambda x: x.sample(min_count)).reset_index(drop=True)\n"
     ]
    }
   ],
   "source": [
    "import pandas as pd\n",
    "\n",
    "df = pd.read_csv('data/iconan/combined.csv')\n",
    "\n",
    "#Filter by counterspeech length > 150\n",
    "df = df[df['counterSpeech'].apply(len) > 150]\n",
    "\n",
    "target_distribution = df['Target'].value_counts()\n",
    "print(\"Combined Target Distribution:\")\n",
    "print(target_distribution)\n",
    "\n",
    "# Generate a random sample with equal (40) target representation\n",
    "min_count = 40\n",
    "equal_sample_df = df.groupby('Target').apply(lambda x: x.sample(min_count)).reset_index(drop=True)\n",
    "\n",
    "# Randomize the DataFrame\n",
    "equal_sample_df = equal_sample_df.sample(frac=1).reset_index(drop=True)\n",
    "\n",
    "# Save the equal target (40) sample\n",
    "equal_sample_df.to_csv('data/iconan/40-per-target-sample.csv', index=False)\n",
    "\n"
   ]
  },
  {
   "cell_type": "code",
   "execution_count": null,
   "metadata": {},
   "outputs": [],
   "source": []
  }
 ],
 "metadata": {
  "kernelspec": {
   "display_name": "pyEnv11",
   "language": "python",
   "name": "python3"
  },
  "language_info": {
   "codemirror_mode": {
    "name": "ipython",
    "version": 3
   },
   "file_extension": ".py",
   "mimetype": "text/x-python",
   "name": "python",
   "nbconvert_exporter": "python",
   "pygments_lexer": "ipython3",
   "version": "3.11.9"
  }
 },
 "nbformat": 4,
 "nbformat_minor": 2
}

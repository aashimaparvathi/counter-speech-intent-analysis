{
 "cells": [
  {
   "cell_type": "markdown",
   "metadata": {},
   "source": [
    "# Sampling IntentCONANv2"
   ]
  },
  {
   "cell_type": "markdown",
   "metadata": {},
   "source": [
    "#### Group by hatespeechTarget and csType, then filter groups with at least 2 samples"
   ]
  },
  {
   "cell_type": "code",
   "execution_count": 23,
   "metadata": {},
   "outputs": [
    {
     "name": "stdout",
     "output_type": "stream",
     "text": [
      "Sample meets the required conditions.\n",
      "Sample saved to 'sample_iconanv2.csv'\n"
     ]
    },
    {
     "name": "stderr",
     "output_type": "stream",
     "text": [
      "/var/folders/04/nywyc1v95c71p0m8dy47hj4c0000gn/T/ipykernel_93374/87639162.py:24: DeprecationWarning: DataFrameGroupBy.apply operated on the grouping columns. This behavior is deprecated, and in a future version of pandas the grouping columns will be excluded from the operation. Either pass `include_groups=False` to exclude the groupings or explicitly select the grouping columns after groupby to silence this warning.\n",
      "  sample_df = filtered_groups.groupby(['hatespeechTarget', 'csType']).apply(lambda x: x.sample(2, replace=False)).reset_index(drop=True)\n"
     ]
    }
   ],
   "source": [
    "import pandas as pd\n",
    "\n",
    "# Load datasets\n",
    "train_df = pd.read_csv('data/iconanv2/train.csv')\n",
    "test_df = pd.read_csv('data/iconanv2/test.csv')\n",
    "val_df = pd.read_csv('data/iconanv2/val.csv')\n",
    "\n",
    "# Combine datasets\n",
    "df = pd.concat([train_df, test_df, val_df])\n",
    "\n",
    "# Drop duplicates to ensure distinct hatespeech\n",
    "#df = df.drop_duplicates(subset=['hatespeech'])   // Commenting this out since this is resulting in 100-102 rows only in sample, i.e., unable to produce 2 rows per hatespeechTarget-csType pair\n",
    "\n",
    "# Filter by counterspeech length > 105\n",
    "df = df[df['counterspeech'].apply(len) > 105]\n",
    "\n",
    "# Filter columns of interest\n",
    "df = df[['hatespeech', 'counterspeech', 'csType', 'hs_id', 'id', 'hatespeechTarget', 'powerDynamics', 'hatespeechOffensiveness']]\n",
    "\n",
    "# Group by hatespeechTarget and csType, then filter groups with at least 2 samples\n",
    "filtered_groups = df.groupby(['hatespeechTarget', 'csType']).filter(lambda x: len(x) >= 2)\n",
    "\n",
    "# Sample 2 rows from each group\n",
    "sample_df = filtered_groups.groupby(['hatespeechTarget', 'csType']).apply(lambda x: x.sample(2, replace=False)).reset_index(drop=True)\n",
    "\n",
    "# Verify the condition for each hatespeechTarget and csType pair\n",
    "sample_counts = sample_df.groupby(['hatespeechTarget', 'csType']).size().reset_index(name='count')\n",
    "if all(sample_counts['count'] == 2):\n",
    "    print(\"Sample meets the required conditions.\")\n",
    "else:\n",
    "    print(\"Sample does not meet the required conditions.\")\n",
    "\n",
    "# Save the sample to a new CSV file\n",
    "sample_df.to_csv('data/iconanv2/sample_iconanv2.csv', index=False)\n",
    "\n",
    "print(\"Sample saved to 'sample_iconanv2.csv'\")\n"
   ]
  },
  {
   "cell_type": "markdown",
   "metadata": {},
   "source": [
    "#### Non-uniform sample of longer counterspeech instances"
   ]
  },
  {
   "cell_type": "code",
   "execution_count": 24,
   "metadata": {},
   "outputs": [
    {
     "name": "stdout",
     "output_type": "stream",
     "text": [
      "Sample meets the required conditions.\n",
      "Sample saved to 'sample_iconanv2_longCS.csv'\n"
     ]
    },
    {
     "name": "stderr",
     "output_type": "stream",
     "text": [
      "/var/folders/04/nywyc1v95c71p0m8dy47hj4c0000gn/T/ipykernel_93374/3331289492.py:17: DeprecationWarning: DataFrameGroupBy.apply operated on the grouping columns. This behavior is deprecated, and in a future version of pandas the grouping columns will be excluded from the operation. Either pass `include_groups=False` to exclude the groupings or explicitly select the grouping columns after groupby to silence this warning.\n",
      "  sample_df = filtered_groups.groupby(['hatespeechTarget', 'csType']).apply(lambda x: x.sample(1, replace=False)).reset_index(drop=True)\n"
     ]
    }
   ],
   "source": [
    "# Combine datasets\n",
    "df = pd.concat([train_df, test_df, val_df])\n",
    "\n",
    "# Drop duplicates to ensure distinct hatespeech\n",
    "#df = df.drop_duplicates(subset=['hatespeech'])   // Commenting this out since this is resulting in 100-102 rows only in sample, i.e., unable to produce 2 rows per hatespeechTarget-csType pair\n",
    "\n",
    "# Filter by counterspeech length > 200\n",
    "df = df[df['counterspeech'].apply(len) > 200]\n",
    "\n",
    "# Filter columns of interest\n",
    "df = df[['hatespeech', 'counterspeech', 'csType', 'hs_id', 'id', 'hatespeechTarget', 'powerDynamics', 'hatespeechOffensiveness']]\n",
    "\n",
    "# Group by hatespeechTarget and csType, then filter groups with at least 2 samples\n",
    "filtered_groups = df.groupby(['hatespeechTarget', 'csType']).filter(lambda x: len(x) >= 1)\n",
    "\n",
    "# Sample 2 rows from each group\n",
    "sample_df = filtered_groups.groupby(['hatespeechTarget', 'csType']).apply(lambda x: x.sample(1, replace=False)).reset_index(drop=True)\n",
    "\n",
    "# Verify the condition for each hatespeechTarget and csType pair\n",
    "sample_counts = sample_df.groupby(['hatespeechTarget', 'csType']).size().reset_index(name='count')\n",
    "if all(sample_counts['count'] == 1):\n",
    "    print(\"Sample meets the required conditions.\")\n",
    "else:\n",
    "    print(\"Sample does not meet the required conditions.\")\n",
    "\n",
    "# Save the sample to a new CSV file\n",
    "sample_df.to_csv('data/iconanv2/sample_iconanv2_longCS.csv', index=False)\n",
    "\n",
    "print(\"Sample saved to 'sample_iconanv2_longCS.csv'\")\n"
   ]
  },
  {
   "cell_type": "markdown",
   "metadata": {},
   "source": [
    "# Sample: Targets Equally Represented"
   ]
  },
  {
   "cell_type": "code",
   "execution_count": 3,
   "metadata": {},
   "outputs": [
    {
     "name": "stdout",
     "output_type": "stream",
     "text": [
      "Combined Target Distribution:\n",
      "hatespeechTarget\n",
      "muslims                            3652\n",
      "immigrants                         2246\n",
      "women                              2031\n",
      "lgbtq+                             1796\n",
      "jews                               1568\n",
      "black_people                       1127\n",
      "people_with_mental_disability       388\n",
      "people_with_physical_disability     304\n",
      "refugees                            280\n",
      "other                               208\n",
      "asian_people                        115\n",
      "gypsies                              92\n",
      "people_of_color                      80\n",
      "men                                  40\n",
      "native_americans                     16\n",
      "Name: count, dtype: int64\n",
      "New Target Distribution:\n",
      "hatespeechTarget\n",
      "muslims                            3652\n",
      "immigrants                         2246\n",
      "women                              2031\n",
      "lgbtq+                             1796\n",
      "jews                               1568\n",
      "black_people                       1127\n",
      "people_with_mental_disability       388\n",
      "people_with_physical_disability     304\n",
      "other_people_of_color               287\n",
      "refugees                            280\n",
      "other                               264\n",
      "Name: count, dtype: int64\n"
     ]
    },
    {
     "name": "stderr",
     "output_type": "stream",
     "text": [
      "/var/folders/04/nywyc1v95c71p0m8dy47hj4c0000gn/T/ipykernel_31602/291264291.py:38: DeprecationWarning: DataFrameGroupBy.apply operated on the grouping columns. This behavior is deprecated, and in a future version of pandas the grouping columns will be excluded from the operation. Either pass `include_groups=False` to exclude the groupings or explicitly select the grouping columns after groupby to silence this warning.\n",
      "  equal_sample_df = df.groupby('hatespeechTarget').apply(lambda x: x.sample(min_count)).reset_index(drop=True)\n"
     ]
    }
   ],
   "source": [
    "import pandas as pd\n",
    "\n",
    "# Load the datasets\n",
    "train_df = pd.read_csv('data/intentconanv2/train.csv')\n",
    "test_df = pd.read_csv('data/intentconanv2/test.csv')\n",
    "val_df = pd.read_csv('data/intentconanv2/val.csv')\n",
    "\n",
    "# Combine datasets\n",
    "df = pd.concat([train_df, test_df, val_df])\n",
    "\n",
    "# Remove HS-CS pairwise duplicates\n",
    "df = df.drop_duplicates(subset=['hatespeech', 'counterspeech'])\n",
    "\n",
    "# Save the combined dataset\n",
    "df.to_csv('data/intentconanv2/combined.csv', index=False)\n",
    "\n",
    "# Print the combined target distribution\n",
    "target_distribution = df['hatespeechTarget'].value_counts()\n",
    "print(\"Combined Target Distribution:\")\n",
    "print(target_distribution)\n",
    "\n",
    "# Adjust hate speech targets as per the instructions\n",
    "df['hatespeechTarget'] = df['hatespeechTarget'].replace({\n",
    "    'men': 'other',\n",
    "    'native_americans': 'other',\n",
    "    'gypsies': 'other_people_of_color',\n",
    "    'people_of_color': 'other_people_of_color',\n",
    "    'asian_people': 'other_people_of_color'\n",
    "})\n",
    "\n",
    "# Print the new target distribution\n",
    "target_distribution = df['hatespeechTarget'].value_counts()\n",
    "print(\"New Target Distribution:\")\n",
    "print(target_distribution)\n",
    "\n",
    "# Generate a random sample with equal target representation\n",
    "min_count = target_distribution.min()  # Get the minimum count for equal sampling\n",
    "equal_sample_df = df.groupby('hatespeechTarget').apply(lambda x: x.sample(min_count)).reset_index(drop=True)\n",
    "\n",
    "# Save the equal target sample\n",
    "equal_sample_df.to_csv('data/intentconanv2/equal-target-sample.csv', index=False)\n",
    "\n",
    "\n",
    "\n"
   ]
  },
  {
   "cell_type": "code",
   "execution_count": null,
   "metadata": {},
   "outputs": [],
   "source": []
  }
 ],
 "metadata": {
  "kernelspec": {
   "display_name": "pyEnv11",
   "language": "python",
   "name": "python3"
  },
  "language_info": {
   "codemirror_mode": {
    "name": "ipython",
    "version": 3
   },
   "file_extension": ".py",
   "mimetype": "text/x-python",
   "name": "python",
   "nbconvert_exporter": "python",
   "pygments_lexer": "ipython3",
   "version": "3.11.9"
  }
 },
 "nbformat": 4,
 "nbformat_minor": 2
}

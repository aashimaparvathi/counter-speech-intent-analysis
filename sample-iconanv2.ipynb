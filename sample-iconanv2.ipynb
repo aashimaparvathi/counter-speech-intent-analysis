{
 "cells": [
  {
   "cell_type": "markdown",
   "metadata": {},
   "source": [
    "# Sampling IntentCONANv2"
   ]
  },
  {
   "cell_type": "markdown",
   "metadata": {},
   "source": [
    "#### Group by hatespeechTarget and csType, then filter groups with at least 2 samples"
   ]
  },
  {
   "cell_type": "code",
   "execution_count": 23,
   "metadata": {},
   "outputs": [
    {
     "name": "stdout",
     "output_type": "stream",
     "text": [
      "Sample meets the required conditions.\n",
      "Sample saved to 'sample_iconanv2.csv'\n"
     ]
    },
    {
     "name": "stderr",
     "output_type": "stream",
     "text": [
      "/var/folders/04/nywyc1v95c71p0m8dy47hj4c0000gn/T/ipykernel_93374/87639162.py:24: DeprecationWarning: DataFrameGroupBy.apply operated on the grouping columns. This behavior is deprecated, and in a future version of pandas the grouping columns will be excluded from the operation. Either pass `include_groups=False` to exclude the groupings or explicitly select the grouping columns after groupby to silence this warning.\n",
      "  sample_df = filtered_groups.groupby(['hatespeechTarget', 'csType']).apply(lambda x: x.sample(2, replace=False)).reset_index(drop=True)\n"
     ]
    }
   ],
   "source": [
    "import pandas as pd\n",
    "\n",
    "# Load datasets\n",
    "train_df = pd.read_csv('data/iconanv2/train.csv')\n",
    "test_df = pd.read_csv('data/iconanv2/test.csv')\n",
    "val_df = pd.read_csv('data/iconanv2/val.csv')\n",
    "\n",
    "# Combine datasets\n",
    "df = pd.concat([train_df, test_df, val_df])\n",
    "\n",
    "# Drop duplicates to ensure distinct hatespeech\n",
    "#df = df.drop_duplicates(subset=['hatespeech'])   // Commenting this out since this is resulting in 100-102 rows only in sample, i.e., unable to produce 2 rows per hatespeechTarget-csType pair\n",
    "\n",
    "# Filter by counterspeech length > 105\n",
    "df = df[df['counterspeech'].apply(len) > 105]\n",
    "\n",
    "# Filter columns of interest\n",
    "df = df[['hatespeech', 'counterspeech', 'csType', 'hs_id', 'id', 'hatespeechTarget', 'powerDynamics', 'hatespeechOffensiveness']]\n",
    "\n",
    "# Group by hatespeechTarget and csType, then filter groups with at least 2 samples\n",
    "filtered_groups = df.groupby(['hatespeechTarget', 'csType']).filter(lambda x: len(x) >= 2)\n",
    "\n",
    "# Sample 2 rows from each group\n",
    "sample_df = filtered_groups.groupby(['hatespeechTarget', 'csType']).apply(lambda x: x.sample(2, replace=False)).reset_index(drop=True)\n",
    "\n",
    "# Verify the condition for each hatespeechTarget and csType pair\n",
    "sample_counts = sample_df.groupby(['hatespeechTarget', 'csType']).size().reset_index(name='count')\n",
    "if all(sample_counts['count'] == 2):\n",
    "    print(\"Sample meets the required conditions.\")\n",
    "else:\n",
    "    print(\"Sample does not meet the required conditions.\")\n",
    "\n",
    "# Save the sample to a new CSV file\n",
    "sample_df.to_csv('data/iconanv2/sample_iconanv2.csv', index=False)\n",
    "\n",
    "print(\"Sample saved to 'sample_iconanv2.csv'\")\n"
   ]
  },
  {
   "cell_type": "markdown",
   "metadata": {},
   "source": [
    "#### Non-uniform sample of longer counterspeech instances"
   ]
  },
  {
   "cell_type": "code",
   "execution_count": 24,
   "metadata": {},
   "outputs": [
    {
     "name": "stdout",
     "output_type": "stream",
     "text": [
      "Sample meets the required conditions.\n",
      "Sample saved to 'sample_iconanv2_longCS.csv'\n"
     ]
    },
    {
     "name": "stderr",
     "output_type": "stream",
     "text": [
      "/var/folders/04/nywyc1v95c71p0m8dy47hj4c0000gn/T/ipykernel_93374/3331289492.py:17: DeprecationWarning: DataFrameGroupBy.apply operated on the grouping columns. This behavior is deprecated, and in a future version of pandas the grouping columns will be excluded from the operation. Either pass `include_groups=False` to exclude the groupings or explicitly select the grouping columns after groupby to silence this warning.\n",
      "  sample_df = filtered_groups.groupby(['hatespeechTarget', 'csType']).apply(lambda x: x.sample(1, replace=False)).reset_index(drop=True)\n"
     ]
    }
   ],
   "source": [
    "# Combine datasets\n",
    "df = pd.concat([train_df, test_df, val_df])\n",
    "\n",
    "# Drop duplicates to ensure distinct hatespeech\n",
    "#df = df.drop_duplicates(subset=['hatespeech'])   // Commenting this out since this is resulting in 100-102 rows only in sample, i.e., unable to produce 2 rows per hatespeechTarget-csType pair\n",
    "\n",
    "# Filter by counterspeech length > 200\n",
    "df = df[df['counterspeech'].apply(len) > 200]\n",
    "\n",
    "# Filter columns of interest\n",
    "df = df[['hatespeech', 'counterspeech', 'csType', 'hs_id', 'id', 'hatespeechTarget', 'powerDynamics', 'hatespeechOffensiveness']]\n",
    "\n",
    "# Group by hatespeechTarget and csType, then filter groups with at least 2 samples\n",
    "filtered_groups = df.groupby(['hatespeechTarget', 'csType']).filter(lambda x: len(x) >= 1)\n",
    "\n",
    "# Sample 2 rows from each group\n",
    "sample_df = filtered_groups.groupby(['hatespeechTarget', 'csType']).apply(lambda x: x.sample(1, replace=False)).reset_index(drop=True)\n",
    "\n",
    "# Verify the condition for each hatespeechTarget and csType pair\n",
    "sample_counts = sample_df.groupby(['hatespeechTarget', 'csType']).size().reset_index(name='count')\n",
    "if all(sample_counts['count'] == 1):\n",
    "    print(\"Sample meets the required conditions.\")\n",
    "else:\n",
    "    print(\"Sample does not meet the required conditions.\")\n",
    "\n",
    "# Save the sample to a new CSV file\n",
    "sample_df.to_csv('data/iconanv2/sample_iconanv2_longCS.csv', index=False)\n",
    "\n",
    "print(\"Sample saved to 'sample_iconanv2_longCS.csv'\")\n"
   ]
  },
  {
   "cell_type": "code",
   "execution_count": null,
   "metadata": {},
   "outputs": [],
   "source": []
  }
 ],
 "metadata": {
  "kernelspec": {
   "display_name": "pyEnv11",
   "language": "python",
   "name": "python3"
  },
  "language_info": {
   "codemirror_mode": {
    "name": "ipython",
    "version": 3
   },
   "file_extension": ".py",
   "mimetype": "text/x-python",
   "name": "python",
   "nbconvert_exporter": "python",
   "pygments_lexer": "ipython3",
   "version": "3.11.9"
  }
 },
 "nbformat": 4,
 "nbformat_minor": 2
}

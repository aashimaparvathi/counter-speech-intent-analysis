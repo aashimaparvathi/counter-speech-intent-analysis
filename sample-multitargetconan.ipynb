{
 "cells": [
  {
   "cell_type": "markdown",
   "metadata": {},
   "source": [
    "# Sampling multitarget-CONAN"
   ]
  },
  {
   "cell_type": "code",
   "execution_count": 14,
   "metadata": {},
   "outputs": [
    {
     "name": "stdout",
     "output_type": "stream",
     "text": [
      "Sampled DataFrame shape: (1760, 5)\n",
      "Remaining DataFrame shape: (3243, 5)\n"
     ]
    },
    {
     "name": "stderr",
     "output_type": "stream",
     "text": [
      "/var/folders/04/nywyc1v95c71p0m8dy47hj4c0000gn/T/ipykernel_24230/3626808675.py:15: DeprecationWarning: DataFrameGroupBy.apply operated on the grouping columns. This behavior is deprecated, and in a future version of pandas the grouping columns will be excluded from the operation. Either pass `include_groups=False` to exclude the groupings or explicitly select the grouping columns after groupby to silence this warning.\n",
      "  sample_df = filtered_df.groupby('TARGET').apply(lambda x: x.sample(n=min_count, random_state=1)).reset_index(drop=True)\n"
     ]
    }
   ],
   "source": [
    "import pandas as pd\n",
    "import os\n",
    "\n",
    "# Load the dataset\n",
    "input_file = 'data/mtc/Multitarget-CONAN.csv'\n",
    "df = pd.read_csv(input_file)\n",
    "\n",
    "# Filter rows where COUNTER_NARRATIVE length is greater than 30\n",
    "filtered_df = df[df['COUNTER_NARRATIVE'].str.len() > 30]\n",
    "\n",
    "# Get the minimum count of each target\n",
    "min_count = filtered_df['TARGET'].value_counts().min()\n",
    "\n",
    "# Sample equal number of rows for each target, using the 'INDEX' for reference\n",
    "sample_df = filtered_df.groupby('TARGET').apply(lambda x: x.sample(n=min_count, random_state=1)).reset_index(drop=True)\n",
    "\n",
    "# Get indices of the sampled rows based on 'INDEX' to create the remaining dataset\n",
    "sampled_indices = sample_df['INDEX'].values\n",
    "remaining_df = df[~df['INDEX'].isin(sampled_indices)]\n",
    "\n",
    "# Randomize the DataFrame\n",
    "sample_df = sample_df.sample(frac=1, random_state=1).reset_index(drop=True)\n",
    "remaining_df = remaining_df.sample(frac=1, random_state=1).reset_index(drop=True)\n",
    "\n",
    "# Save the sample and remaining datasets\n",
    "output_sample_file = 'data/mtc/sample_mtc.csv'\n",
    "output_remaining_file = 'data/mtc/remaining_mtc.csv'\n",
    "\n",
    "# Ensure the directory exists before saving\n",
    "os.makedirs(os.path.dirname(output_sample_file), exist_ok=True)\n",
    "\n",
    "# Save DataFrames to CSV\n",
    "sample_df.to_csv(output_sample_file, index=False)\n",
    "remaining_df.to_csv(output_remaining_file, index=False)\n",
    "\n",
    "# Output the shapes of the dataframes to verify sizes\n",
    "print(\"Sampled DataFrame shape:\", sample_df.shape)\n",
    "print(\"Remaining DataFrame shape:\", remaining_df.shape)\n"
   ]
  },
  {
   "cell_type": "markdown",
   "metadata": {},
   "source": [
    "# Long-CS Sample"
   ]
  },
  {
   "cell_type": "code",
   "execution_count": 15,
   "metadata": {},
   "outputs": [
    {
     "name": "stdout",
     "output_type": "stream",
     "text": [
      "Sampled DataFrame shape: (3615, 5)\n"
     ]
    }
   ],
   "source": [
    "import pandas as pd\n",
    "\n",
    "# Load the dataset\n",
    "input_file = 'data/mtc/Multitarget-CONAN.csv'\n",
    "df = pd.read_csv(input_file)\n",
    "\n",
    "# Filter rows where COUNTER_NARRATIVE length is greater than 100\n",
    "filtered_df = df[df['COUNTER_NARRATIVE'].str.len() > 100]\n",
    "\n",
    "# Randomize the DataFrame\n",
    "filtered_df = filtered_df.sample(frac=1, random_state=1).reset_index(drop=True)\n",
    "\n",
    "output_sample_file = 'data/mtc/longCS_sample_mtc.csv'\n",
    "\n",
    "# Save DataFrames to CSV\n",
    "filtered_df.to_csv(output_sample_file, index=False)\n",
    "\n",
    "# Output the shapes of the dataframes to verify sizes\n",
    "print(\"Sampled DataFrame shape:\", filtered_df.shape)\n",
    "\n"
   ]
  }
 ],
 "metadata": {
  "kernelspec": {
   "display_name": "pyEnv11",
   "language": "python",
   "name": "python3"
  },
  "language_info": {
   "codemirror_mode": {
    "name": "ipython",
    "version": 3
   },
   "file_extension": ".py",
   "mimetype": "text/x-python",
   "name": "python",
   "nbconvert_exporter": "python",
   "pygments_lexer": "ipython3",
   "version": "3.11.9"
  }
 },
 "nbformat": 4,
 "nbformat_minor": 2
}
